{
  "nbformat": 4,
  "nbformat_minor": 0,
  "metadata": {
    "colab": {
      "provenance": []
    },
    "kernelspec": {
      "name": "python3",
      "display_name": "Python 3"
    },
    "language_info": {
      "name": "python"
    }
  },
  "cells": [
    {
      "cell_type": "markdown",
      "source": [
        "1.  What is Python, and why is it popular.\n",
        " - Python is a programming language and it is a set of special rules and symbol and it is used to give instruction to the computer,and it is popular because it is easy to use and learn from the other languages\n",
        "\n",
        "2. What is an interpreter in Python?\n",
        " - An interpreter in Python is a program that reads and executes Python code line by line rather than compiling it all at once. This allows for easier debugging and quick testing of code.\n",
        "\n",
        "3. What are pre-defined keywords in Python?\n",
        " - Predefined keywords are the keywords which has a special meaning and have specific meaning in python.\n",
        "\n",
        "4. Can keywords be used as variable names?\n",
        " - No, keywords cannot be used as variable names because they are reserved words that have predefined meaning.\n",
        "\n",
        "5. What is mutability in Python?\n",
        " - Objects/Container whose state and can value can be changed after they created are called as mutability.\n",
        "\n",
        "6. Why are lists mutable, but tuples are immutable?\n",
        " - Lists are mutable, meaning their elements can be modified after creation. In contrast, tuples are immutable, meaning their elements cannot be changed once assigned.\n",
        "\n",
        "7. What is the difference between “==“ and “is“ operators in Python?\n",
        " - Both “==” and “is” are comparison operator but “==” operator compares value of two objects and “is” operator compares the object identity.\n",
        "\n",
        "8. What are logical operators in Python?\n",
        " - and & or are the logical operators in python and it is used to combine multiple conditions and give results in the form of true and false based on logical evulation.\n",
        "\n",
        "9.  What is type casting in Python?\n",
        " - The process of changing the data type of a value and object is called type casting in pyton.\n",
        "\n",
        "10. What is the difference between implicit and explicit type casting?\n",
        " - Implict type casting are automatic typecasting.\n",
        " - Explict type casting are manual type casting.\n",
        "\n",
        "11. What is the purpose of conditional statements in Python?\n",
        " - Conditional statement helps us to code decision on the base of some preconditions.\n",
        "\n",
        "12.  How does the elif statement work?\n",
        " - The elif statement is used in Python to check multiple conditions in a sequence. It follows an if statement and allows the program to execute different code blocks depending on the first True condition.\n",
        "\n",
        "13.What is the difference between for and while loops?\n",
        " - Both for and while loops are used for iteration, but they work differently.\n",
        " # For Loop\n",
        "  - Used when the number of iterations is known.\n",
        "  - Iterates over a sequence (e.g., list, string, etc.).\n",
        "  - Automatically stops when it reaches the end of the sequence\n",
        "# While Loop\n",
        "  - Used when the number of iterations is unknown.\n",
        "  - Runs as long as a condition is True.\n",
        "  - Needs manual control.\n",
        "\n",
        "14. Describe a scenario where a while loop is more suitable than a for loop.\n",
        " - A while loop is best suited when the number of iterations is unknown and depends on a condition being met.\n",
        " # scenerio\n",
        " - Waiting for User Input: Keep asking for input until they provide valid data.\n",
        "\n",
        "\n",
        "\n"
      ],
      "metadata": {
        "id": "Q-akfWp3yd49"
      }
    },
    {
      "cell_type": "code",
      "source": [
        "# 1.  Write a Python program to print \"Hello, World!\n",
        "a = (\"Hello, World!\")\n",
        "print (a)"
      ],
      "metadata": {
        "colab": {
          "base_uri": "https://localhost:8080/"
        },
        "id": "GcG_13Hu9WRq",
        "outputId": "9ad650ef-464f-4e4e-99d0-f3241defb1f8"
      },
      "execution_count": null,
      "outputs": [
        {
          "output_type": "stream",
          "name": "stdout",
          "text": [
            "Hello, World!\n"
          ]
        }
      ]
    },
    {
      "cell_type": "code",
      "source": [
        "# 2. Write a Python program that displays your name and age\n",
        "a = (\"Name - Ansh\" , \"Age - 19\")\n",
        "print(a)"
      ],
      "metadata": {
        "colab": {
          "base_uri": "https://localhost:8080/"
        },
        "id": "aKt3NZyz9xs6",
        "outputId": "274dcc84-3ee8-4dc6-a082-fc5304196aa6"
      },
      "execution_count": null,
      "outputs": [
        {
          "output_type": "stream",
          "name": "stdout",
          "text": [
            "('Name - Ansh', 'Age - 19')\n"
          ]
        }
      ]
    },
    {
      "cell_type": "code",
      "source": [
        "# 3. Write code to print all the pre-defined keywords in Python using the keyword library.\n",
        "import keyword\n",
        "keywords = keyword.kwlist\n",
        "print(\"Python Keywords:\")\n",
        "for kw in keywords:\n",
        "    print(kw)\n"
      ],
      "metadata": {
        "colab": {
          "base_uri": "https://localhost:8080/"
        },
        "id": "KhkBWodR-0Zh",
        "outputId": "4af1b051-d4f0-46da-dc4b-bc29c7a9bb41"
      },
      "execution_count": 18,
      "outputs": [
        {
          "output_type": "stream",
          "name": "stdout",
          "text": [
            "Python Keywords:\n",
            "False\n",
            "None\n",
            "True\n",
            "and\n",
            "as\n",
            "assert\n",
            "async\n",
            "await\n",
            "break\n",
            "class\n",
            "continue\n",
            "def\n",
            "del\n",
            "elif\n",
            "else\n",
            "except\n",
            "finally\n",
            "for\n",
            "from\n",
            "global\n",
            "if\n",
            "import\n",
            "in\n",
            "is\n",
            "lambda\n",
            "nonlocal\n",
            "not\n",
            "or\n",
            "pass\n",
            "raise\n",
            "return\n",
            "try\n",
            "while\n",
            "with\n",
            "yield\n"
          ]
        }
      ]
    },
    {
      "cell_type": "code",
      "source": [
        "# 4. Write a program that checks if a given word is a Python keyword\n",
        "import keyword\n",
        "def check_keyword(word):\n",
        "    if keyword.iskeyword(word):\n",
        "        print(f\"'{word}' is a Python keyword.\")\n",
        "    else:\n",
        "        print(f\"'{word}' is NOT a Python keyword.\")\n",
        "word = input(\"Enter a word: \")\n",
        "check_keyword(word)\n"
      ],
      "metadata": {
        "colab": {
          "base_uri": "https://localhost:8080/"
        },
        "id": "0LShsEnN_Hwh",
        "outputId": "d6725014-e9e7-4b66-9376-38d4983f3060"
      },
      "execution_count": null,
      "outputs": [
        {
          "output_type": "stream",
          "name": "stdout",
          "text": [
            "Enter a word: if\n",
            "'if' is a Python keyword.\n"
          ]
        }
      ]
    },
    {
      "cell_type": "code",
      "source": [
        "# 5. # Create a list and tuple in Python, and demonstrate how attempting to change an element works differently for each\n",
        "my_list = [1, 2, 3]\n",
        "print(\"Original list:\", my_list)\n",
        "\n",
        "# Modifying an element in the list\n",
        "my_list[1] = 20\n",
        "print(\"Modified list:\", my_list)\n",
        "\n",
        "# Creating a tuple\n",
        "my_tuple = (1, 2, 3)\n",
        "print(\"Original tuple:\", my_tuple)\n",
        "\n",
        "# Attempting to modify an element in the tuple (this will raise an error)\n",
        "try:\n",
        "    my_tuple[1] = 20\n",
        "except TypeError as e:\n",
        "    print(\"Error:\", e)\n",
        "\n",
        "\n"
      ],
      "metadata": {
        "id": "4THHYtxv_VXJ",
        "colab": {
          "base_uri": "https://localhost:8080/"
        },
        "outputId": "374cd1bf-128b-46af-f923-50a3182742ed"
      },
      "execution_count": 1,
      "outputs": [
        {
          "output_type": "stream",
          "name": "stdout",
          "text": [
            "Original list: [1, 2, 3]\n",
            "Modified list: [1, 20, 3]\n",
            "Original tuple: (1, 2, 3)\n",
            "Error: 'tuple' object does not support item assignment\n"
          ]
        }
      ]
    },
    {
      "cell_type": "code",
      "source": [
        "# 6. Write a function to demonstrate the behavior of mutable and immutable arguments.\n",
        "def modify_arguments(immutable_obj, mutable_obj):\n",
        "    # Attempt to modify the immutable object (integer)\n",
        "    immutable_obj += 10\n",
        "    print(\"Inside function (immutable):\", immutable_obj)\n",
        "\n",
        "    # Modify the mutable object (list)\n",
        "    mutable_obj.append(4)\n",
        "    print(\"Inside function (mutable):\", mutable_obj)\n",
        "\n",
        "# Immutable argument (integer)\n",
        "num = 5\n",
        "\n",
        "# Mutable argument (list)\n",
        "my_list = [1, 2, 3]\n",
        "\n",
        "# Call the function\n",
        "modify_arguments(num, my_list)\n",
        "\n",
        "# Check the values outside the function\n",
        "print(\"Outside function (immutable):\", num)  # Unchanged\n",
        "print(\"Outside function (mutable):\", my_list)  # Changed\n"
      ],
      "metadata": {
        "colab": {
          "base_uri": "https://localhost:8080/"
        },
        "id": "ziwFZ1p8ROch",
        "outputId": "ab14a40b-d0f1-46d3-d9f8-06dd8f71c57c"
      },
      "execution_count": 2,
      "outputs": [
        {
          "output_type": "stream",
          "name": "stdout",
          "text": [
            "Inside function (immutable): 15\n",
            "Inside function (mutable): [1, 2, 3, 4]\n",
            "Outside function (immutable): 5\n",
            "Outside function (mutable): [1, 2, 3, 4]\n"
          ]
        }
      ]
    },
    {
      "cell_type": "code",
      "source": [
        "# 7. Write a function to demonstrate the behavior of mutable and immutable arguments.\n",
        "def modify_values(immutable_obj, mutable_obj):\n",
        "    # Attempt to modify the immutable object (integer)\n",
        "    immutable_obj += 10\n",
        "    print(\"Inside function (immutable):\", immutable_obj)  # A new object is created\n",
        "\n",
        "    # Modify the mutable object (list)\n",
        "    mutable_obj.append(4)\n",
        "    print(\"Inside function (mutable):\", mutable_obj)  # The original list is modified\n",
        "\n",
        "# Immutable argument (integer)\n",
        "num = 5\n",
        "\n",
        "# Mutable argument (list)\n",
        "my_list = [1, 2, 3]\n",
        "\n",
        "# Call the function\n",
        "modify_values(num, my_list)\n",
        "\n",
        "# Check the values outside the function\n",
        "print(\"Outside function (immutable):\", num)  # Remains unchanged\n",
        "print(\"Outside function (mutable):\", my_list)  # Modified\n"
      ],
      "metadata": {
        "colab": {
          "base_uri": "https://localhost:8080/"
        },
        "id": "bNsFXItuRqZR",
        "outputId": "59713c19-be4e-4924-99c3-4acb76874178"
      },
      "execution_count": 4,
      "outputs": [
        {
          "output_type": "stream",
          "name": "stdout",
          "text": [
            "Inside function (immutable): 15\n",
            "Inside function (mutable): [1, 2, 3, 4]\n",
            "Outside function (immutable): 5\n",
            "Outside function (mutable): [1, 2, 3, 4]\n"
          ]
        }
      ]
    },
    {
      "cell_type": "code",
      "source": [
        "# 8. Write a program to demonstrate the use of logical operators.\n",
        "# Define boolean variables\n",
        "a = True\n",
        "b = False\n",
        "\n",
        "# Demonstrate 'and' operator\n",
        "print(\"a and b:\", a and b)  # False (both must be True)\n",
        "\n",
        "# Demonstrate 'or' operator\n",
        "print(\"a or b:\", a or b)  # True (at least one must be True)\n",
        "\n",
        "# Demonstrate 'not' operator\n",
        "print(\"not a:\", not a)  # False (negates the value)\n",
        "print(\"not b:\", not b)  # True\n",
        "\n",
        "# Logical operators with numerical values\n",
        "x = 10\n",
        "y = 5\n",
        "\n",
        "# 'and' with conditions\n",
        "print(\"x > 5 and y < 10:\", x > 5 and y < 10)  # True\n",
        "\n",
        "# 'or' with conditions\n",
        "print(\"x < 5 or y < 10:\", x < 5 or y < 10)  # True\n",
        "\n",
        "# 'not' with conditions\n",
        "print(\"not (x < y):\", not (x < y))  # True\n"
      ],
      "metadata": {
        "colab": {
          "base_uri": "https://localhost:8080/"
        },
        "id": "JZigyPE3R5X3",
        "outputId": "1584d32e-361f-4c94-9238-9b770fa21531"
      },
      "execution_count": 8,
      "outputs": [
        {
          "output_type": "stream",
          "name": "stdout",
          "text": [
            "a and b: False\n",
            "a or b: True\n",
            "not a: False\n",
            "not b: True\n",
            "x > 5 and y < 10: True\n",
            "x < 5 or y < 10: True\n",
            "not (x < y): True\n"
          ]
        }
      ]
    },
    {
      "cell_type": "code",
      "source": [
        "# 9. Write a Python program to convert user input from string to integer, float, and boolean types.\n",
        "# Take user input as a string\n",
        "user_input = input(\"Enter a value: \")\n",
        "\n",
        "# Convert to integer (if possible)\n",
        "try:\n",
        "    int_value = int(user_input)\n",
        "    print(\"Integer:\", int_value)\n",
        "except ValueError:\n",
        "    print(\"Cannot convert to Integer\")\n",
        "\n",
        "# Convert to float (if possible)\n",
        "try:\n",
        "    float_value = float(user_input)\n",
        "    print(\"Float:\", float_value)\n",
        "except ValueError:\n",
        "    print(\"Cannot convert to Float\")\n",
        "\n",
        "# Convert to boolean\n",
        "bool_value = bool(user_input.strip())  # Empty string -> False, Non-empty -> True\n",
        "print(\"Boolean:\", bool_value)\n"
      ],
      "metadata": {
        "colab": {
          "base_uri": "https://localhost:8080/"
        },
        "id": "FWSe96ekTF24",
        "outputId": "2fbbb4d3-6480-4929-d2a6-9e80462a1ed4"
      },
      "execution_count": 7,
      "outputs": [
        {
          "output_type": "stream",
          "name": "stdout",
          "text": [
            "Enter a value: 12.5\n",
            "Cannot convert to Integer\n",
            "Float: 12.5\n",
            "Boolean: True\n"
          ]
        }
      ]
    },
    {
      "cell_type": "code",
      "source": [
        "# 10. Write code to demonstrate type casting with list elements\n",
        "# Original list with string numbers\n",
        "string_list = [\"10\", \"20.5\", \"30\", \"40.7\", \"True\"]\n",
        "\n",
        "# Convert elements to integers (where possible)\n",
        "int_list = []\n",
        "for item in string_list:\n",
        "    try:\n",
        "        int_list.append(int(float(item)))  # Convert to float first to handle decimal values\n",
        "    except ValueError:\n",
        "        int_list.append(None)  # Store None if conversion fails\n",
        "\n",
        "print(\"Integer List:\", int_list)\n",
        "\n",
        "# Convert elements to floats\n",
        "float_list = []\n",
        "for item in string_list:\n",
        "    try:\n",
        "        float_list.append(float(item))\n",
        "    except ValueError:\n",
        "        float_list.append(None)\n",
        "\n",
        "print(\"Float List:\", float_list)\n",
        "\n",
        "# Convert elements to boolean\n",
        "bool_list = [bool(item) for item in string_list]\n",
        "\n",
        "print(\"Boolean List:\", bool_list)\n"
      ],
      "metadata": {
        "colab": {
          "base_uri": "https://localhost:8080/"
        },
        "id": "hDY2nBDtT4KA",
        "outputId": "b7509af9-020c-4073-b952-b9d55a53b67e"
      },
      "execution_count": 10,
      "outputs": [
        {
          "output_type": "stream",
          "name": "stdout",
          "text": [
            "Integer List: [10, 20, 30, 40, None]\n",
            "Float List: [10.0, 20.5, 30.0, 40.7, None]\n",
            "Boolean List: [True, True, True, True, True]\n"
          ]
        }
      ]
    },
    {
      "cell_type": "code",
      "source": [
        "# 11. Write a program that checks if a number is positive, negative, or zero.\n",
        "# Get user input\n",
        "num = float(input(\"Enter a number: \"))\n",
        "\n",
        "# Check the number's sign\n",
        "if num > 0:\n",
        "    print(\"The number is positive.\")\n",
        "elif num < 0:\n",
        "    print(\"The number is negative.\")\n",
        "else:\n",
        "    print(\"The number is zero.\")\n",
        "\n"
      ],
      "metadata": {
        "colab": {
          "base_uri": "https://localhost:8080/"
        },
        "id": "q_mPMOjfUSWv",
        "outputId": "a974f3cb-69ad-453f-fb15-c42ce409349d"
      },
      "execution_count": 12,
      "outputs": [
        {
          "output_type": "stream",
          "name": "stdout",
          "text": [
            "Enter a number: -2\n",
            "The number is negative.\n"
          ]
        }
      ]
    },
    {
      "cell_type": "code",
      "source": [
        "# 12.Write a for loop to print numbers from 1 to 10.\n",
        "for num in range(1, 11):\n",
        "    print(num)\n"
      ],
      "metadata": {
        "colab": {
          "base_uri": "https://localhost:8080/"
        },
        "id": "7Zl62t_xUvEP",
        "outputId": "8ac31fc6-2069-402d-921b-4cb9a3b77405"
      },
      "execution_count": 14,
      "outputs": [
        {
          "output_type": "stream",
          "name": "stdout",
          "text": [
            "1\n",
            "2\n",
            "3\n",
            "4\n",
            "5\n",
            "6\n",
            "7\n",
            "8\n",
            "9\n",
            "10\n"
          ]
        }
      ]
    },
    {
      "cell_type": "code",
      "source": [
        "# 13. Write a Python program to find the sum of all even numbers between 1 and 50.\n",
        "# Initialize sum\n",
        "even_sum = 0\n",
        "\n",
        "# Loop through numbers from 1 to 50\n",
        "for num in range(2, 51, 2):  # Start at 2, step by 2 to get only even numbers\n",
        "    even_sum += num  # Add even number to sum\n",
        "\n",
        "# Print the result\n",
        "print(\"Sum of even numbers between 1 and 50:\", even_sum)\n"
      ],
      "metadata": {
        "colab": {
          "base_uri": "https://localhost:8080/"
        },
        "id": "HZWIAsQ5U_kG",
        "outputId": "34fa28d3-1761-4c34-c6ce-d3bd360db5ea"
      },
      "execution_count": 15,
      "outputs": [
        {
          "output_type": "stream",
          "name": "stdout",
          "text": [
            "Sum of even numbers between 1 and 50: 650\n"
          ]
        }
      ]
    },
    {
      "cell_type": "code",
      "source": [
        "# 14. Write a program to reverse a string using a while loop.\n",
        "# Get user input\n",
        "string = input(\"Enter a string: \")\n",
        "\n",
        "# Initialize variables\n",
        "reversed_string = \"\"\n",
        "index = len(string) - 1  # Start from the last character\n",
        "\n",
        "# Use while loop to reverse the string\n",
        "while index >= 0:\n",
        "    reversed_string += string[index]  # Append character in reverse order\n",
        "    index -= 1  # Move to the previous character\n",
        "\n",
        "# Print the reversed string\n",
        "print(\"Reversed string:\", reversed_string)\n"
      ],
      "metadata": {
        "colab": {
          "base_uri": "https://localhost:8080/"
        },
        "id": "qnD8cd8tVSDv",
        "outputId": "76c83f5f-038c-42e7-b070-76eaa6e7ad99"
      },
      "execution_count": 16,
      "outputs": [
        {
          "output_type": "stream",
          "name": "stdout",
          "text": [
            "Enter a string: ansh\n",
            "Reversed string: hsna\n"
          ]
        }
      ]
    },
    {
      "cell_type": "code",
      "source": [
        "# 15. Write a Python program to calculate the factorial of a number provided by the user using a while loop.\n",
        "# Get user input\n",
        "num = int(input(\"Enter a number: \"))\n",
        "\n",
        "# Initialize variables\n",
        "factorial = 1\n",
        "i = num\n",
        "\n",
        "# Check for negative numbers\n",
        "if num < 0:\n",
        "    print(\"Factorial is not defined for negative numbers.\")\n",
        "elif num == 0:\n",
        "    print(\"Factorial of 0 is 1.\")\n",
        "else:\n",
        "    # Calculate factorial using while loop\n",
        "    while i > 1:\n",
        "        factorial *= i\n",
        "        i -= 1  # Decrease i\n",
        "\n",
        "    # Print the result\n",
        "    print(f\"Factorial of {num} is {factorial}.\")\n"
      ],
      "metadata": {
        "colab": {
          "base_uri": "https://localhost:8080/"
        },
        "id": "XLSfM2QsViOW",
        "outputId": "310c6ec6-376a-44a4-8f42-3ce49f175488"
      },
      "execution_count": 17,
      "outputs": [
        {
          "output_type": "stream",
          "name": "stdout",
          "text": [
            "Enter a number: 16\n",
            "Factorial of 16 is 20922789888000.\n"
          ]
        }
      ]
    },
    {
      "cell_type": "code",
      "source": [],
      "metadata": {
        "id": "1AkYxtgDVvY2"
      },
      "execution_count": null,
      "outputs": []
    }
  ]
}